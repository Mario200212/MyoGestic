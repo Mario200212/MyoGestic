{
  "cells": [
    {
      "cell_type": "markdown",
      "metadata": {},
      "source": [
        "\n# Adding a Custom Biosignal Feature\n\nBelow is an example of how to create and register a new feature by inheriting from\na base filter class from [MyoVerse](https://nsquaredlab.github.io/MyoVerse/modules/filters.html).\n\nThis custom feature calculates the variance of the input signal.\n\n.. admonition:: We Recommend Implementing any Additions in *user_config.py*\n\n   The *user_config.py* module is specifically designed for end-users to register\n   and configure their own custom components such as models, features,\n   and filters. This keeps your modifications modular, reduces conflicts with\n   core MyoGestic settings, and simplifies upgrades in the future.\n\n   .. important::\n      By registering your addition in ``user_config.py``, you ensure that your custom\n      configuration stays separate from core MyoGestic functionality and remains\n      compatible with future updates.\n\n\n## Example Overview\n1. **Define** a new feature class inheriting from the base class.\n2. **Implement** the core logic in the ``_filter`` method.\n3. **Register** the feature so it becomes available globally.\n"
      ]
    },
    {
      "cell_type": "code",
      "execution_count": null,
      "metadata": {
        "collapsed": false
      },
      "outputs": [],
      "source": [
        "import numpy as np\nfrom myogestic.utils.config import CONFIG_REGISTRY\n# Ensure this import references your actual base class location:\nfrom myoverse.datasets.filters._template import FilterBaseClass"
      ]
    },
    {
      "cell_type": "markdown",
      "metadata": {},
      "source": [
        "### Step 1: Inherit and define logic\n\n"
      ]
    },
    {
      "cell_type": "code",
      "execution_count": null,
      "metadata": {
        "collapsed": false
      },
      "outputs": [],
      "source": [
        "class MyVarianceFeature(FilterBaseClass):\n    \"\"\"\n    A feature that computes the variance of the input signal.\n\n    Parameters\n    ----------\n    input_is_chunked : bool, optional\n        Indicates whether the input data is chunked.\n    allowed_input_type : Literal[\"both\", \"chunked\", \"not chunked\"], optional\n        Whether the filter accepts chunked, unchunked, or both.\n    is_output : bool, optional\n        If True, this feature's output is set as a final output in the pipeline.\n    \"\"\"\n\n    def _filter(self, input_array: np.ndarray) -> np.ndarray:\n        \"\"\"\n        Compute the variance of the input signal.\n\n        Parameters\n        ----------\n        input_array : np.ndarray\n            The data on which variance is computed.\n\n        Returns\n        -------\n        np.ndarray\n            The variance output as a single-element array, for consistency.\n        \"\"\"\n        return np.array([np.var(input_array)], dtype=float)"
      ]
    },
    {
      "cell_type": "markdown",
      "metadata": {},
      "source": [
        "### Step 2: Register the custom feature\n\n"
      ]
    },
    {
      "cell_type": "code",
      "execution_count": null,
      "metadata": {
        "collapsed": false
      },
      "outputs": [],
      "source": [
        "CONFIG_REGISTRY.register_feature(\"My Variance Feature\", MyVarianceFeature)"
      ]
    },
    {
      "cell_type": "markdown",
      "metadata": {},
      "source": [
        "### Example Usage\n\n"
      ]
    },
    {
      "cell_type": "code",
      "execution_count": null,
      "metadata": {
        "collapsed": false
      },
      "outputs": [],
      "source": [
        "if __name__ == \"__main__\":\n    # Create a small signal for demonstration\n    sample_data = np.array([1.2, 2.5, 2.7, 2.8, 3.1])\n\n    # Instantiate and apply the feature\n    feature_instance = MyVarianceFeature(\n        input_is_chunked=False,\n        allowed_input_type=\"not chunked\"\n    )\n    variance_value = feature_instance(sample_data)\n\n    print(f\"Variance of {sample_data} = {variance_value[0]:.4f}\")"
      ]
    }
  ],
  "metadata": {
    "kernelspec": {
      "display_name": "Python 3",
      "language": "python",
      "name": "python3"
    },
    "language_info": {
      "codemirror_mode": {
        "name": "ipython",
        "version": 3
      },
      "file_extension": ".py",
      "mimetype": "text/x-python",
      "name": "python",
      "nbconvert_exporter": "python",
      "pygments_lexer": "ipython3",
      "version": "3.12.7"
    }
  },
  "nbformat": 4,
  "nbformat_minor": 0
}