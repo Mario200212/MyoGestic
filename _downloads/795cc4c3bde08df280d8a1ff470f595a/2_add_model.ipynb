{
  "cells": [
    {
      "cell_type": "markdown",
      "metadata": {},
      "source": [
        "\n# Add a Custom Model\n\nThis example demonstrates how to create and register a custom model to **MyoGestic**\nusing the ``CONFIG_REGISTRY`` from *user_config.py*. This example also explains\nhow to define **changeable** and **unchangeable** parameters in your configuration.\n\n.. admonition:: We Recommend Implementing any Additions in *user_config.py*\n\n   The *user_config.py* module is specifically designed for end-users to register\n   and configure their own custom components such as models, features,\n   and filters. This keeps your modifications modular, reduces conflicts with\n   core MyoGestic settings, and simplifies upgrades in the future.\n\n   .. important::\n      By registering your addition in ``user_config.py``, you ensure that your custom\n      configuration stays separate from core MyoGestic functionality and remains\n      compatible with future updates.\n\n## Example Overview\n1. **Create** a custom model class.\n2. **Define** ``save``, ``load``, ``train``, and ``predict`` functions.\n3. **Specify** parameters (changeable and unchangeable) for the model.\n4. **Register** the model into ``CONFIG_REGISTRY`` using *user_config.py*.\n"
      ]
    },
    {
      "cell_type": "code",
      "execution_count": null,
      "metadata": {
        "collapsed": false
      },
      "outputs": [],
      "source": [
        "from myogestic.utils.config import CONFIG_REGISTRY"
      ]
    },
    {
      "cell_type": "markdown",
      "metadata": {},
      "source": [
        "### Step 1: Define your custom model\n\n"
      ]
    },
    {
      "cell_type": "code",
      "execution_count": null,
      "metadata": {
        "collapsed": false
      },
      "outputs": [],
      "source": [
        "class MyExampleModel:\n    \"\"\"\n    A simple example model for demonstration purposes.\n\n    This model is intentionally minimal\u2014focus on the registration\n    process rather than advanced machine learning logic.\n    \"\"\"\n\n    def __init__(self, param1: float, param2: int):\n        \"\"\"\n        Initialize the model with parameters.\n\n        Parameters\n        ----------\n        param1 : float\n            A parameter that can be changed (e.g., a hyperparameter).\n        param2 : int\n            A parameter that stays the same (e.g., a fixed architectural detail).\n        \"\"\"\n        self.param1 = param1\n        self.param2 = param2\n        self.training_data = None\n\n    def save(self, path: str):\n        \"\"\"\n        Save the model to the specified path.\n\n        Parameters\n        ----------\n        path : str\n            The filepath to save this model instance.\n        \"\"\"\n        with open(path, \"w\") as f:\n            f.write(f\"Model(param1={self.param1}, param2={self.param2})\")\n\n    def load(self, path: str):\n        \"\"\"\n        Load the model from the specified path.\n\n        Parameters\n        ----------\n        path : str\n            The filepath to load model information from.\n        \"\"\"\n        with open(path, \"r\") as f:\n            data = f.read()\n            print(f\"Loaded model: {data}\")\n\n    def train(self, x, y):\n        \"\"\"\n        Train the model on the specified data.\n\n        Parameters\n        ----------\n        x : array-like\n            Input features for training.\n        y : array-like\n            Target values for training.\n        \"\"\"\n        self.training_data = {\"x\": x, \"y\": y}\n        print(f\"Model trained on {len(x)} samples with param1={self.param1}\")\n\n    def predict(self, x):\n        \"\"\"\n        Predict on input data.\n\n        Parameters\n        ----------\n        x : array-like\n            Input features for prediction.\n\n        Returns\n        -------\n        list\n            A list of predictions computed by multiplying each input by param1.\n\n        Raises\n        ------\n        RuntimeError\n            If the model is not yet trained.\n        \"\"\"\n        if self.training_data is None:\n            raise RuntimeError(\"The model must be trained before making predictions.\")\n        return [x_i * self.param1 for x_i in x]"
      ]
    },
    {
      "cell_type": "markdown",
      "metadata": {},
      "source": [
        "### Step 2: Define required functions for the model lifecycle\n\n"
      ]
    },
    {
      "cell_type": "code",
      "execution_count": null,
      "metadata": {
        "collapsed": false
      },
      "outputs": [],
      "source": [
        "def save_function(model_path: str, model: MyExampleModel):\n    \"\"\"\n    Save the model to the given path.\n\n    Parameters\n    ----------\n    model_path : str\n        Filepath to save the model.\n    model : MyExampleModel\n        An instance of MyExampleModel to be saved.\n    \"\"\"\n    model.save(model_path)\n\n\ndef load_function(model_path: str):\n    \"\"\"\n    Load the model from the given path and return a new instance.\n\n    Parameters\n    ----------\n    model_path : str\n        Filepath from which to load the model.\n\n    Returns\n    -------\n    MyExampleModel\n        A fresh instance of MyExampleModel with default initialization,\n        then loaded.\n    \"\"\"\n    model = MyExampleModel(param1=1.0, param2=10)  # Default initialization\n    model.load(model_path)\n    return model\n\n\ndef train_function(model: MyExampleModel, dataset, is_classifier: bool, logger):\n    \"\"\"\n    Train the model on the given dataset.\n\n    Parameters\n    ----------\n    model : MyExampleModel\n        The model instance to train.\n    dataset : dict\n        A dictionary or object containing \"x\" and \"y\" for training.\n    is_classifier : bool\n        Indicates whether the model is used for classification tasks.\n    logger : Any\n        An optional logger for status messages or debug output.\n\n    Returns\n    -------\n    MyExampleModel\n        The trained model instance.\n    \"\"\"\n    x_train = dataset[\"x\"]  # e.g., Extract x training data\n    y_train = dataset[\"y\"]  # e.g., Extract y training targets\n    model.train(x_train, y_train)\n    return model\n\n\ndef predict_function(model: MyExampleModel, input_data, is_classifier: bool):\n    \"\"\"\n    Perform prediction with the model on input data.\n\n    Parameters\n    ----------\n    model : MyExampleModel\n        The model instance to use for prediction.\n    input_data : array-like\n        The data on which you want predictions.\n    is_classifier : bool\n        Indicates classification usage; if True, handle accordingly.\n\n    Returns\n    -------\n    list\n        The predictions from the model.\n    \"\"\"\n    predictions = model.predict(input_data)\n    return predictions"
      ]
    },
    {
      "cell_type": "markdown",
      "metadata": {},
      "source": [
        "### Step 3: Define changeable and unchangeable parameters\nFor information on configuring parameters, refer to the `config_parameters`.\nThis structure is used to define the model's hyperparameters and fixed settings,\nensuring seamless integration with MyoGestic's UI so that they may be changed at runtime.\n\n"
      ]
    },
    {
      "cell_type": "code",
      "execution_count": null,
      "metadata": {
        "collapsed": false
      },
      "outputs": [],
      "source": [
        "from myogestic.utils.config import ChangeableParameter, UnchangeableParameter  # noqa\n\nchangeable_params: dict[str, ChangeableParameter] = {\n    \"param1\": {\n        \"default_value\": 1.0,\n        \"start_value\": 0.1,\n        \"end_value\": 5.0,\n        \"step\": 0.1,\n    }\n}\n\nunchangeable_params: dict[str, UnchangeableParameter] = {\n    \"param2\": 10\n}  # Fixed value that cannot be changed dynamically"
      ]
    },
    {
      "cell_type": "markdown",
      "metadata": {},
      "source": [
        "### Step 4: Register the model into CONFIG_REGISTRY\n\n"
      ]
    },
    {
      "cell_type": "code",
      "execution_count": null,
      "metadata": {
        "collapsed": false
      },
      "outputs": [],
      "source": [
        "CONFIG_REGISTRY.register_model(\n    name=\"MyExampleModel\",\n    model_class=MyExampleModel,\n    is_classifier=False,  # Update if your model is for classification\n    save_function=save_function,\n    load_function=load_function,\n    train_function=train_function,\n    predict_function=predict_function,\n    changeable_parameters=changeable_params,\n    unchangeable_parameters=unchangeable_params,\n)"
      ]
    }
  ],
  "metadata": {
    "kernelspec": {
      "display_name": "Python 3",
      "language": "python",
      "name": "python3"
    },
    "language_info": {
      "codemirror_mode": {
        "name": "ipython",
        "version": 3
      },
      "file_extension": ".py",
      "mimetype": "text/x-python",
      "name": "python",
      "nbconvert_exporter": "python",
      "pygments_lexer": "ipython3",
      "version": "3.12.7"
    }
  },
  "nbformat": 4,
  "nbformat_minor": 0
}