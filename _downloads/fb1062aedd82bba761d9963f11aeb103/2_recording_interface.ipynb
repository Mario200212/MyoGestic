{
  "cells": [
    {
      "cell_type": "markdown",
      "metadata": {},
      "source": [
        "\n# Part 2: Recording Interface\n\nThe recording interface is the second component of a visual interface in MyoGestic.\n\nIt is responsible for managing the ground-truth data collection.\nSince the ground-truth data depends on the visual interface, the recording interface must define the data collection process.\n\n## Step 1: Create the setup UI\nYou will need an UI that will allow the user to start the recording, visualize the progress, and save the data.\n\n<div class=\"alert alert-info\"><h4>Note</h4><p>To start copy the UI files in ``myogestic > gui > widgets > visual_interfaces > ui`` and adapt them with the functionality you need.\n\n    You need to modify them with [QT-Designer](https://doc.qt.io/qtforpython-6/tools/pyside-designer.html) and convert them using [UIC](https://doc.qt.io/qtforpython-6/tools/pyside-uic.html) to a python file.</p></div>\n\n\n## Step 2: Understand what is needed in the recording interface\n<div class=\"alert alert-info\"><h4>Note</h4><p>A recording interface is a class that inherits from\n\n    .. currentmodule:: myogestic.gui.widgets.templates.visual_interface\n    .. autosummary:: RecordingInterfaceTemplate\n        :toctree: generated/visual_interface</p></div>\n\nPlease read the documentation of the class and make a mental note of what you have to provide (e.g. signals, methods, attributes)\nand what you have to implement (e.g. start_recording, stop_recording, accept_recording).\n\n## Step 3: Implement a recording interface (Example Virtual Hand Interface)\nThis example focuses on implementing and adding the **recording interface** for the **Virtual Hand Interface** using the `VirtualHandInterface_RecordingInterface` class from `recording_interface.py`.\nWe explain how it is constructed and registered into MyoGestic via `CONFIG_REGISTRY` in `config.py`.\n\nSteps:\n\n1. Class Initialization and UI Setup\n2. Starting & Stopping Recordings\n3. Managing Recording Sessions\n4. Resetting the Interface\n"
      ]
    },
    {
      "cell_type": "markdown",
      "metadata": {},
      "source": [
        "### Step 3.1: Class Initialization and UI Setup\nThis step initializes the recording interface\u2019s buffers and task-related attributes.\nIt also configures the UI elements required for this interface.\n\n.. literalinclude:: /../../myogestic/gui/widgets/visual_interfaces/virtual_hand_interface/recording_interface.py\n   :language: python\n   :linenos:\n   :lines: 1-16\n   :caption: Imports\n\n.. literalinclude:: /../../myogestic/gui/widgets/visual_interfaces/virtual_hand_interface/recording_interface.py\n   :language: python\n   :lineno-match:\n   :lines: 17-71\n   :caption: Class Initialization\n\n.. literalinclude:: /../../myogestic/gui/widgets/visual_interfaces/virtual_hand_interface/recording_interface.py\n   :language: python\n   :lineno-match:\n   :pyobject: VirtualHandInterface_RecordingInterface.initialize_ui_logic\n   :caption: UI Setup\n\n"
      ]
    },
    {
      "cell_type": "markdown",
      "metadata": {},
      "source": [
        "### Step 3.2: Starting & Stopping Recordings\nThis step manages the logic for starting or stopping recording sessions,\nwhich includes preparing recording parameters and updating the UI.\n\n.. literalinclude:: /../../myogestic/gui/widgets/visual_interfaces/virtual_hand_interface/recording_interface.py\n  :language: python\n  :lineno-match:\n  :pyobject: VirtualHandInterface_RecordingInterface.start_recording_preparation\n  :caption: Start Recording Preparation - This method prepares the recording session.\n\n.. literalinclude:: /../../myogestic/gui/widgets/visual_interfaces/virtual_hand_interface/recording_interface.py\n  :language: python\n  :lineno-match:\n  :pyobject: VirtualHandInterface_RecordingInterface.start_recording\n  :caption: Start Recording - This method starts the recording session.\n\n\n"
      ]
    },
    {
      "cell_type": "markdown",
      "metadata": {},
      "source": [
        "### Step 3.3: Managing Recording Sessions\nThis step manages the recording session, which includes updating the UI and recording data.\n\n.. literalinclude:: /../../myogestic/gui/widgets/visual_interfaces/virtual_hand_interface/recording_interface.py\n  :language: python\n  :lineno-match:\n  :pyobject: VirtualHandInterface_RecordingInterface.update_ground_truth_buffer\n  :caption: Update Ground Truth Buffer - This method updates the ground-truth buffer with the current data.\n\n.. literalinclude:: /../../myogestic/gui/widgets/visual_interfaces/virtual_hand_interface/recording_interface.py\n  :language: python\n  :lineno-match:\n  :pyobject: VirtualHandInterface_RecordingInterface.check_recording_completion\n  :caption: Check Recording Completion - This method checks if the recording session is complete.\n\n.. literalinclude:: /../../myogestic/gui/widgets/visual_interfaces/virtual_hand_interface/recording_interface.py\n  :language: python\n  :lineno-match:\n  :pyobject: VirtualHandInterface_RecordingInterface.finish_recording\n  :caption: Finish Recording - This method finalizes the recording session.\n\n.. literalinclude:: /../../myogestic/gui/widgets/visual_interfaces/virtual_hand_interface/recording_interface.py\n  :language: python\n  :lineno-match:\n  :pyobject: VirtualHandInterface_RecordingInterface.accept_recording\n  :caption: Accept Recording - This method accepts the recorded data and saves it.\n\n.. literalinclude:: /../../myogestic/gui/widgets/visual_interfaces/virtual_hand_interface/recording_interface.py\n  :language: python\n  :lineno-match:\n  :pyobject: VirtualHandInterface_RecordingInterface.reject_recording\n  :caption: Reject Recording - This method rejects the recorded data and discards it.\n\n"
      ]
    },
    {
      "cell_type": "markdown",
      "metadata": {},
      "source": [
        "### Step 3.4: Resetting the Interface\nThis step resets the recording interface to its initial state.\n\n.. literalinclude:: /../../myogestic/gui/widgets/visual_interfaces/virtual_hand_interface/recording_interface.py\n  :language: python\n  :lineno-match:\n  :pyobject: VirtualHandInterface_RecordingInterface.reset_ui\n  :caption: Reset UI - This method resets the recording interface's UI elements.\n\n.. literalinclude:: /../../myogestic/gui/widgets/visual_interfaces/virtual_hand_interface/recording_interface.py\n  :language: python\n  :lineno-match:\n  :pyobject: VirtualHandInterface_RecordingInterface.close_event\n  :caption: Close Event - This method handles the closing event of the recording interface.\n\n.. literalinclude:: /../../myogestic/gui/widgets/visual_interfaces/virtual_hand_interface/recording_interface.py\n  :language: python\n  :lineno-match:\n  :pyobject: VirtualHandInterface_RecordingInterface.enable\n  :caption: Enable - This method enables the recording interface.\n\n.. literalinclude:: /../../myogestic/gui/widgets/visual_interfaces/virtual_hand_interface/recording_interface.py\n  :language: python\n  :lineno-match:\n  :pyobject: VirtualHandInterface_RecordingInterface.disable\n  :caption: Disable - This method disables the recording interface.\n\n"
      ]
    }
  ],
  "metadata": {
    "kernelspec": {
      "display_name": "Python 3",
      "language": "python",
      "name": "python3"
    },
    "language_info": {
      "codemirror_mode": {
        "name": "ipython",
        "version": 3
      },
      "file_extension": ".py",
      "mimetype": "text/x-python",
      "name": "python",
      "nbconvert_exporter": "python",
      "pygments_lexer": "ipython3",
      "version": "3.12.7"
    }
  },
  "nbformat": 4,
  "nbformat_minor": 0
}