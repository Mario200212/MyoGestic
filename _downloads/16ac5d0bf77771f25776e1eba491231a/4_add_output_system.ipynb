{
  "cells": [
    {
      "cell_type": "markdown",
      "metadata": {},
      "source": [
        "\n# Add a Custom Output System\n\nThis example demonstrates how to build and register a new output system in **MyoGestic**.\n\nBy creating a subclass of the\ngeneric `output_system_template`, you can channel model predictions into any\ndestination you like\u2014such as a virtual environment or hardware device.\n\n.. admonition:: We Recommend Implementing any Additions in *user_config.py*\n\n   The *user_config.py* module is specifically designed for end-users to register\n   and configure their own custom components such as models, features,\n   and filters. This keeps your modifications modular, reduces conflicts with\n   core MyoGestic settings, and simplifies upgrades in the future.\n\n   .. important::\n      By registering your addition in ``user_config.py``, you ensure that your custom\n      configuration stays separate from core MyoGestic functionality and remains\n      compatible with future updates.\n\n\n## Example Overview\n1. **Create** a custom output system class by inheriting from ``OutputSystemTemplate``.\n2. **Implement** the required methods for processing and sending predictions.\n3. **Register** the output system into ``CONFIG_REGISTRY``.\n4. (Optional) **Test** your new output system by selecting it in your MyoGestic\n   workflow.\n\n## Notes on Implementation\nThe class design follows the interface defined by `output_system_template`, requiring:\n\n- A constructor that takes in the ``main_window`` (as all QObject do) and a boolean flag for classification vs. regression.\n- Definitions for:\n\n  - ``_process_prediction__classification(prediction: Any) -> Any``\n  - ``_process_prediction__regression(prediction: Any) -> Any``\n  - ``send_prediction(prediction: Any) -> None``\n  - ``closeEvent(event) -> None``\n\nBelow, we provide a simplified demonstration that mirrors how you might adapt a\nneural rehabilitation device interface or a virtual hand interface. For further\nexamples of fully featured implementations, see references in MyoGestic's existing\noutput systems.\n"
      ]
    },
    {
      "cell_type": "markdown",
      "metadata": {},
      "source": [
        "### Step 1: Define Your Custom Output System\n\n"
      ]
    },
    {
      "cell_type": "code",
      "execution_count": null,
      "metadata": {
        "collapsed": false
      },
      "outputs": [],
      "source": [
        "from typing import Any\nfrom myogestic.gui.widgets.templates.output_system import OutputSystemTemplate\n\n\nclass MyCustomOutputSystem(OutputSystemTemplate):\n    \"\"\"\n    A simple example output system for demonstration purposes.\n\n    This class shows how to inherit from OutputSystemTemplate and implement\n    the required abstract methods. It can send predictions to any desired\n    interface or hardware, provided you adapt the methods below.\n    \"\"\"\n\n    def __init__(self, main_window, prediction_is_classification: bool) -> None:\n        \"\"\"\n        Initialize the custom output system.\n\n        Parameters\n        ----------\n        main_window : Any\n            The main window object containing a logger or other references.\n        prediction_is_classification : bool\n            Set to True for classification tasks, False for regression.\n        \"\"\"\n        super().__init__(main_window, prediction_is_classification)\n        # (Optional) Initialize sockets, signals, or other resources here\n\n    def _process_prediction__classification(self, prediction: Any) -> Any:\n        \"\"\"\n        Convert a classification prediction into a format suitable\n        for your output system or interface.\n        \"\"\"\n        # Replace with your own logic or mappings\n        return f\"Classification: {prediction}\".encode(\"utf-8\")\n\n    def _process_prediction__regression(self, prediction: Any) -> Any:\n        \"\"\"\n        Convert a regression prediction into a format suitable\n        for your output system or interface.\n        \"\"\"\n        # Replace with your own logic or mappings\n        return f\"Regression: {prediction}\".encode(\"utf-8\")\n\n    def send_prediction(self, prediction: Any) -> None:\n        \"\"\"\n        Send the processed prediction to your output destination.\n        \"\"\"\n        processed = self.process_prediction(prediction)\n        # For demonstration, we simply print the processed data\n        self._main_window.logger.print(\n            f\"Sending: {processed}\",\n        )\n\n    def close_event(self, event) -> None:\n        \"\"\"\n        Handle any cleanup needed when your system closes.\n        \"\"\"\n        # Close sockets, timers, or other resources here\n        pass"
      ]
    },
    {
      "cell_type": "markdown",
      "metadata": {},
      "source": [
        "### Step 2: Register the Output System in CONFIG_REGISTRY\n\n"
      ]
    },
    {
      "cell_type": "code",
      "execution_count": null,
      "metadata": {
        "collapsed": false
      },
      "outputs": [],
      "source": [
        "from myogestic.utils.config import CONFIG_REGISTRY\n\nCONFIG_REGISTRY.register_output_system(\n    name=\"MyCustomOutputSystem\", output_system=MyCustomOutputSystem\n)"
      ]
    },
    {
      "cell_type": "markdown",
      "metadata": {},
      "source": [
        "### Example: Virtual Hand Interface\n.. literalinclude:: /../../myogestic/gui/widgets/visual_interfaces/virtual_hand_interface/output_interface.py\n  :language: python\n  :lineno-match:\n\n"
      ]
    }
  ],
  "metadata": {
    "kernelspec": {
      "display_name": "Python 3",
      "language": "python",
      "name": "python3"
    },
    "language_info": {
      "codemirror_mode": {
        "name": "ipython",
        "version": 3
      },
      "file_extension": ".py",
      "mimetype": "text/x-python",
      "name": "python",
      "nbconvert_exporter": "python",
      "pygments_lexer": "ipython3",
      "version": "3.12.7"
    }
  },
  "nbformat": 4,
  "nbformat_minor": 0
}