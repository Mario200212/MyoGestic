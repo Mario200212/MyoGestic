{
  "cells": [
    {
      "cell_type": "markdown",
      "metadata": {},
      "source": [
        "\n# Part 1: Setup Interface\n\nThe setup interface is the first component of a visual interface in MyoGestic.\n\nIt is responsible for configuring the parameters, initializing the system, and managing the communication between MyoGestic and the visual interface.\n\n## Step 1: Create the setup UI\nYou will need an UI that will allow the user to start and stop the interface. This UI can be as simple as a button or as complex as you need.\n\n<div class=\"alert alert-info\"><h4>Note</h4><p>To start copy the UI files in ``myogestic > gui > widgets > visual_interfaces > ui`` and adapt them with the functionality you need.\n\n    You need to modify them with [QT-Designer](https://doc.qt.io/qtforpython-6/tools/pyside-designer.html) and convert them using [UIC](https://doc.qt.io/qtforpython-6/tools/pyside-uic.html) to a python file.</p></div>\n\n## Step 2: Understand what is needed in the setup interface\n<div class=\"alert alert-info\"><h4>Note</h4><p>A setup interface is a class that inherits from\n\n    .. currentmodule:: myogestic.gui.widgets.templates.visual_interface\n    .. autosummary:: SetupInterfaceTemplate\n        :toctree: generated/visual_interface</p></div>\n\nPlease read the documentation of the class and make a mental note of what you have to provide (e.g. signals, methods, attributes)\nand what you have to implement (e.g. start_interface, stop_interface, toggle_interface).\n\n## Step 3: Implement a setup interface (Example Virtual Hand Interface)\nThis example focuses on implementing and adding the **setup interface** for the **Virtual Hand Interface** using the `VirtualHandInterface_SetupInterface` class from `setup_interface.py`.\nWe explain how it is constructed and registered into MyoGestic via `CONFIG_REGISTRY` in `config.py`.\n\nSteps:\n1. Define a custom `SetupInterface` class.\n2. Manage the interface's state and initialization.\n3. Handle communication with MyoGestic's runtime.\n4. Handle custom data signals and data processing.\n5. Register this class in MyoGestic's configuration registry.\n"
      ]
    },
    {
      "cell_type": "markdown",
      "metadata": {},
      "source": [
        "### Step 3.1: Define the Setup Interface Class\nThis step implements the `VirtualHandInterface_SetupInterface` class, which initializes the\nVirtual Hand Interface, manages its state, and ensures communication with MyoGestic's runtime.\n\n.. literalinclude:: /../../myogestic/gui/widgets/visual_interfaces/virtual_hand_interface/setup_interface.py\n :language: python\n :linenos:\n :lines: 1-40\n :caption: Imports\n\n.. literalinclude:: /../../myogestic/gui/widgets/visual_interfaces/virtual_hand_interface/setup_interface.py\n :language: python\n :linenos:\n :lineno-match:\n :lines: 41-89\n :caption: Class Definition\n\n.. literalinclude:: /../../myogestic/gui/widgets/visual_interfaces/virtual_hand_interface/setup_interface.py\n   :language: python\n   :lineno-match:\n   :pyobject: VirtualHandInterface_SetupInterface._get_unity_executable\n   :caption: Helper Functions\n\n.. literalinclude:: /../../myogestic/gui/widgets/visual_interfaces/virtual_hand_interface/setup_interface.py\n   :language: python\n   :lineno-match:\n   :pyobject: VirtualHandInterface_SetupInterface._setup_timers\n\n.. literalinclude:: /../../myogestic/gui/widgets/visual_interfaces/virtual_hand_interface/setup_interface.py\n  :language: python\n  :lineno-match:\n  :pyobject: VirtualHandInterface_SetupInterface.initialize_ui_logic\n  :caption: UI Setup\n\n"
      ]
    },
    {
      "cell_type": "markdown",
      "metadata": {},
      "source": [
        "### Step 3.2: Manage the Interface's State and Initialization\nThis step manages the state of the Virtual Hand Interface and initializes the interface's parameters.\nIt also ensures that the interface is correctly set up and ready for use.\n\n.. literalinclude:: /../../myogestic/gui/widgets/visual_interfaces/virtual_hand_interface/setup_interface.py\n  :language: python\n  :lineno-match:\n  :pyobject: VirtualHandInterface_SetupInterface.start_interface\n  :caption: Start Interface - This method starts the interface.\n\n.. literalinclude:: /../../myogestic/gui/widgets/visual_interfaces/virtual_hand_interface/setup_interface.py\n  :language: python\n  :lineno-match:\n  :pyobject: VirtualHandInterface_SetupInterface.stop_interface\n  :caption: Stop Interface - This method stops the interface.\n\n.. literalinclude:: /../../myogestic/gui/widgets/visual_interfaces/virtual_hand_interface/setup_interface.py\n  :language: python\n  :lineno-match:\n  :pyobject: VirtualHandInterface_SetupInterface.interface_was_killed\n  :caption: Interface Was Killed - This method checks if the interface was killed (e.g. by the user closing the window).\n\n.. literalinclude:: /../../myogestic/gui/widgets/visual_interfaces/virtual_hand_interface/setup_interface.py\n  :language: python\n  :lineno-match:\n  :pyobject: VirtualHandInterface_SetupInterface._update_status\n  :caption: Update Status - This method updates the interface's status. If the interface is not running, it will be set to \"Stopped\".\n\n.. literalinclude:: /../../myogestic/gui/widgets/visual_interfaces/virtual_hand_interface/setup_interface.py\n  :language: python\n  :lineno-match:\n  :pyobject: VirtualHandInterface_SetupInterface.toggle_virtual_hand_interface\n  :caption: Toggle Virtual Hand Interface - This method toggles the Virtual Hand Interface. If the interface is running, it will be stopped. If it is stopped, it will be started.\n\n"
      ]
    },
    {
      "cell_type": "markdown",
      "metadata": {},
      "source": [
        "### Step 3.3: Handle Communication with MyoGestic\nThis step manages the communication between the Virtual Hand Interface and MyoGestic's runtime.\nIt ensures that the interface is correctly set up and ready for use.\n\n.. literalinclude:: /../../myogestic/gui/widgets/visual_interfaces/virtual_hand_interface/setup_interface.py\n  :language: python\n  :lineno-match:\n  :pyobject: VirtualHandInterface_SetupInterface.toggle_streaming\n  :caption: Toggle Streaming - This method toggles the streaming of data from MyoGestic to the Virtual Hand Interface.\n\n.. literalinclude:: /../../myogestic/gui/widgets/visual_interfaces/virtual_hand_interface/setup_interface.py\n  :language: python\n  :lineno-match:\n  :pyobject: VirtualHandInterface_SetupInterface.read_predicted_hand\n  :caption: Read Predicted Hand - This method reads the predicted hand from MyoGestic.\n\n.. literalinclude:: /../../myogestic/gui/widgets/visual_interfaces/virtual_hand_interface/setup_interface.py\n  :language: python\n  :lineno-match:\n  :pyobject: VirtualHandInterface_SetupInterface.read_message\n  :caption: Read/Write Message - This methods read and write messages from/to MyoGestic.\n\n.. literalinclude:: /../../myogestic/gui/widgets/visual_interfaces/virtual_hand_interface/setup_interface.py\n  :language: python\n  :lineno-match:\n  :pyobject: VirtualHandInterface_SetupInterface.write_message\n\n.. literalinclude:: /../../myogestic/gui/widgets/visual_interfaces/virtual_hand_interface/setup_interface.py\n  :language: python\n  :lineno-match:\n  :pyobject: VirtualHandInterface_SetupInterface.write_status_message\n\n"
      ]
    },
    {
      "cell_type": "markdown",
      "metadata": {},
      "source": [
        "### Step 3.4: Handle Custom Data Signals\nThis step manages custom data signals and data processing for the Virtual Hand Interface.\nIt ensures that the interface is correctly set up and ready for use.\n\n.. literalinclude:: /../../myogestic/gui/widgets/visual_interfaces/virtual_hand_interface/setup_interface.py\n  :language: python\n  :lineno-match:\n  :pyobject: VirtualHandInterface_SetupInterface.connect_custom_signals\n  :caption: Connect/Disconnect Custom Signals - This method connects/disconnects custom signals.\n\n.. literalinclude:: /../../myogestic/gui/widgets/visual_interfaces/virtual_hand_interface/setup_interface.py\n  :language: python\n  :lineno-match:\n  :pyobject: VirtualHandInterface_SetupInterface.process_custom_signals\n\n.. literalinclude:: /../../myogestic/gui/widgets/visual_interfaces/virtual_hand_interface/setup_interface.py\n  :language: python\n  :lineno-match:\n  :pyobject: VirtualHandInterface_SetupInterface.online_predicted_hand_update\n  :caption: Online Predicted Hand Update - This method updates the predicted hand buffer with the current data.\n\n.. literalinclude:: /../../myogestic/gui/widgets/visual_interfaces/virtual_hand_interface/setup_interface.py\n  :language: python\n  :lineno-match:\n  :pyobject: VirtualHandInterface_SetupInterface.clear_custom_signal_buffers\n  :caption: Clear Custom Signal Buffers - This method clears the custom signal buffers.\n\n.. literalinclude:: /../../myogestic/gui/widgets/visual_interfaces/virtual_hand_interface/setup_interface.py\n  :language: python\n  :lineno-match:\n  :pyobject: VirtualHandInterface_SetupInterface.get_custom_save_data\n  :caption: Get Custom Save Data - This method will be called when saving the interface's data. This should return a dictionary with the data that needs to be saved.\n\n"
      ]
    },
    {
      "cell_type": "markdown",
      "metadata": {},
      "source": [
        "### Step 3.5: Register the Setup Interface in Config\nThis step integrates the `VirtualHandInterface_SetupInterface` class into the MyoGestic configuration.\nOnce registered, the interface becomes available for use in the framework.\n\n"
      ]
    },
    {
      "cell_type": "code",
      "execution_count": null,
      "metadata": {
        "collapsed": false
      },
      "outputs": [],
      "source": [
        "from myogestic.gui.widgets.visual_interfaces.virtual_hand_interface import VirtualHandInterface_SetupInterface\nfrom myogestic.utils.config import CONFIG_REGISTRY\n\n\nCONFIG_REGISTRY.register_visual_interface(\n    name=\"VirtualHandInterface\",  # Unique identifier for the visual interface.\n    setup_interface_ui=VirtualHandInterface_SetupInterface,  # Associated setup class.\n    recording_interface_ui=None,  # Placeholder (can be extended with a recording interface).\n)"
      ]
    }
  ],
  "metadata": {
    "kernelspec": {
      "display_name": "Python 3",
      "language": "python",
      "name": "python3"
    },
    "language_info": {
      "codemirror_mode": {
        "name": "ipython",
        "version": 3
      },
      "file_extension": ".py",
      "mimetype": "text/x-python",
      "name": "python",
      "nbconvert_exporter": "python",
      "pygments_lexer": "ipython3",
      "version": "3.12.7"
    }
  },
  "nbformat": 4,
  "nbformat_minor": 0
}