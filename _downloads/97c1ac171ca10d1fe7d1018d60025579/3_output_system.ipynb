{
  "cells": [
    {
      "cell_type": "markdown",
      "metadata": {},
      "source": [
        "\n# Part 3: Output System\n\nThis implementation demonstrates the creation of an **Output System** for the Virtual Hand Interface.\nIt processes predictions (classification or regression) and communicates them to the visual interface.\n\n## Steps:\n1. **Step 1: Class Initialization and Validation**\n    - Ensures the correct visual interface is selected and initializes helper objects.\n\n2. **Step 2: Processing Predictions**\n    - Converts classification and regression predictions into an appropriate format.\n\n3. **Step 3: Sending Predictions**\n    - Sends processed predictions to the visual interface via output signals.\n\n4. **Step 4: Handling Close Events**\n    - Cleans up resources and handles the exit process gracefully.\n"
      ]
    },
    {
      "cell_type": "markdown",
      "metadata": {},
      "source": [
        "### Predefined Mapping for Classification Predictions\nThis dictionary maps classification labels to their respective predefined\noutput strings for the Virtual Hand Interface.\n\n"
      ]
    },
    {
      "cell_type": "code",
      "execution_count": null,
      "metadata": {
        "collapsed": false
      },
      "outputs": [],
      "source": [
        "PREDICTION2INTERFACE_MAP = {\n    -1: \"Rejected Sample\",\n    0: \"[0, 0, 0, 0, 0, 0, 0, 0, 0]\",\n    1: \"[0, 0, 1, 0, 0, 0, 0, 0, 0]\",\n    2: \"[1, 0, 0, 0, 0, 0, 0, 0, 0]\",\n    3: \"[0, 0, 0, 1, 0, 0, 0, 0, 0]\",\n    4: \"[0, 0, 0, 0, 1, 0, 0, 0, 0]\",\n    5: \"[0, 0, 0, 0, 0, 1, 0, 0, 0]\",\n    6: \"[0.67, 1, 1, 1, 1, 1, 0, 0, 0]\",\n    7: \"[0.45, 1, 0.6, 0, 0, 0, 0, 0, 0]\",\n    8: \"[0.55, 1, 0.65, 0.65, 0, 0, 0, 0, 0]\",\n}"
      ]
    },
    {
      "cell_type": "markdown",
      "metadata": {},
      "source": [
        "### Step 1: Class Initialization\nThis step ensures that the selected visual interface is the Virtual Hand Interface.\nIt also establishes the connection for outgoing signals using the main window.\n\n.. literalinclude:: /../../myogestic/gui/widgets/visual_interfaces/virtual_hand_interface/output_interface.py\n  :language: python\n  :lineno-match:\n  :lines: 1-55\n  :caption: Output System Initialization\n\n"
      ]
    },
    {
      "cell_type": "markdown",
      "metadata": {},
      "source": [
        "### Step 2: Processing Predictions\nThis step defines how predictions (either classification or regression) are processed\ninto the appropriate format that can be used by the Virtual Hand Interface.\n\n.. literalinclude:: /../../myogestic/gui/widgets/visual_interfaces/virtual_hand_interface/output_interface.py\n  :language: python\n  :lineno-match:\n  :pyobject: VirtualHandInterface_OutputSystem._process_prediction__classification\n  :caption: Processing Classification Predictions - Convert classification predictions into the required format to send them to the visual interface.\n\n.. literalinclude:: /../../myogestic/gui/widgets/visual_interfaces/virtual_hand_interface/output_interface.py\n  :language: python\n  :lineno-match:\n  :pyobject: VirtualHandInterface_OutputSystem._process_prediction__regression\n  :caption: Processing Regression Predictions - Convert regression predictions into the required format to send them to the visual interface.\n\n"
      ]
    },
    {
      "cell_type": "markdown",
      "metadata": {},
      "source": [
        "### Step 3: Sending Predictions\nThis step sends the processed predictions (after formatting them into bytes)\nto the connected visual interface via the outgoing signal.\n\n.. literalinclude:: /../../myogestic/gui/widgets/visual_interfaces/virtual_hand_interface/output_interface.py\n  :language: python\n  :lineno-match:\n  :pyobject: VirtualHandInterface_OutputSystem.send_prediction\n  :caption: Sending Predictions - Send the processed prediction to the visual interface.\n\n"
      ]
    },
    {
      "cell_type": "markdown",
      "metadata": {},
      "source": [
        "### Step 4: Handling Close Events\nThis step handles the cleanup process when the Output System is closed.\nIt logs the closure and ensures that resources are properly released.\n\n.. literalinclude:: /../../myogestic/gui/widgets/visual_interfaces/virtual_hand_interface/output_interface.py\n  :language: python\n  :lineno-match:\n  :pyobject: VirtualHandInterface_OutputSystem.close_event\n  :caption: Handling Close Events - Clean up resources and handle the exit process gracefully. If needed, this method can be extended to include additional cleanup steps.\n\n"
      ]
    }
  ],
  "metadata": {
    "kernelspec": {
      "display_name": "Python 3",
      "language": "python",
      "name": "python3"
    },
    "language_info": {
      "codemirror_mode": {
        "name": "ipython",
        "version": 3
      },
      "file_extension": ".py",
      "mimetype": "text/x-python",
      "name": "python",
      "nbconvert_exporter": "python",
      "pygments_lexer": "ipython3",
      "version": "3.12.7"
    }
  },
  "nbformat": 4,
  "nbformat_minor": 0
}