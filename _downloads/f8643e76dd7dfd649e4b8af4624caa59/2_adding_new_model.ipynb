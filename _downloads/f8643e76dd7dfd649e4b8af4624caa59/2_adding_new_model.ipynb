{
  "cells": [
    {
      "cell_type": "markdown",
      "metadata": {},
      "source": [
        "\n# Adding a new model to MyoGestic\n\nThis example shows how to add a new model to MyoGestic.\n"
      ]
    },
    {
      "cell_type": "markdown",
      "metadata": {},
      "source": [
        "MyoGestic makes use of a configuration file to define the models that are available to the user in the GUI.\n\nFor ease of use, we have provided a template configuration file that you can use to add your own models\n`myogestic/user_config.py`.\n\n\n"
      ]
    },
    {
      "cell_type": "code",
      "execution_count": null,
      "metadata": {
        "collapsed": false
      },
      "outputs": [],
      "source": [
        "# print configuration file\nwith open(\"../myogestic/user_config.py\", \"r\") as f:\n    print(f.read())"
      ]
    },
    {
      "cell_type": "markdown",
      "metadata": {},
      "source": [
        "## Create a new model\nLet's add a new model to MyoGestic.\n\n.. tip:: While we encourage you to add a new model in `user_config.py`, you can also add it in a separate file and import it in `user_config.py`.\n\nOur model is going to be a Logistic Regression model. We are going to use the `LogisticRegression` class from sklearn.\n\n\n"
      ]
    },
    {
      "cell_type": "code",
      "execution_count": null,
      "metadata": {
        "collapsed": false
      },
      "outputs": [],
      "source": [
        "from sklearn.linear_model import LogisticRegression"
      ]
    },
    {
      "cell_type": "markdown",
      "metadata": {},
      "source": [
        "## Add functions to save, load, train, and predict\nWe can use the `sklearn_models` functions that are already defined in the `myogestic.models.definitions` module.\nThese should work for most models that are based on sklearn models.\n\n\n"
      ]
    },
    {
      "cell_type": "code",
      "execution_count": null,
      "metadata": {
        "collapsed": false
      },
      "outputs": [],
      "source": [
        "from myogestic.models.definitions import sklearn_models\nimport inspect\n\nprint(inspect.getsource(sklearn_models.save))\nprint(\"\".join([\"-\"] * 80))\nprint(inspect.getsource(sklearn_models.load))\nprint(\"\".join([\"-\"] * 80))\nprint(inspect.getsource(sklearn_models.train))\nprint(\"\".join([\"-\"] * 80))\nprint(inspect.getsource(sklearn_models.predict))"
      ]
    },
    {
      "cell_type": "markdown",
      "metadata": {},
      "source": [
        "## Add parameters for the model\nFinally, we need to define the parameters that the model needs.\n\n<div class=\"alert alert-info\"><h4>Note</h4><p>The parameters should be divided into `changeable` and `unchangeable` parameters. The `changeable` parameters are the ones that the user can change in the GUI. The `unchangeable` parameters are the ones that the user cannot change and are set by the system.</p></div>\n\n\nFor our model, we are going to allow 'C' to be a changeable parameters and 'penalty' to be an unchangeable parameter.\n\n\n"
      ]
    },
    {
      "cell_type": "code",
      "execution_count": null,
      "metadata": {
        "collapsed": false
      },
      "outputs": [],
      "source": [
        "# The `ChangeableParameter` and `UnchangeableParameter` classes are used to define the parameters.\nchangeable_parameters = {\n    \"C\": {\"start_value\": 1e-4, \"end_value\": 1e4, \"step\": 1e-4, \"default_value\": 1}\n}\n\nunchangeable_parameters = {\"penalty\": \"l2\"}"
      ]
    },
    {
      "cell_type": "markdown",
      "metadata": {},
      "source": [
        "## Register the model\nWe can now register the model in the configuration registry.\n\n<div class=\"alert alert-info\"><h4>Note</h4><p>The register_model function is used to add a new model to MyoGestic.</p></div>\n\nThe function takes the following arguments:\n    - model_name: The name of the model.\n    - model_class: The python class of the model. Example: LinearRegression from sklearn.\n    - is_classifier: A boolean indicating whether the model is a classifier.\n    - save_function: The function to save the model.\n    - load_function: The function to load the model.\n    - train_function: The function to train the model.\n    - predict_function: The function to predict with the model.\n\n.. important:: The model_name must be unique.\n\n\n"
      ]
    },
    {
      "cell_type": "code",
      "execution_count": null,
      "metadata": {
        "collapsed": false
      },
      "outputs": [],
      "source": [
        "from myogestic.utils.config import CONFIG_REGISTRY\n\nCONFIG_REGISTRY.register_model(\n    model_name=\"Logistic Regression\",\n    model_class=LogisticRegression,\n    is_classifier=True,\n    save_function=sklearn_models.save,\n    load_function=sklearn_models.load,\n    train_function=sklearn_models.train,\n    predict_function=sklearn_models.predict,\n    changeable_parameters=changeable_parameters,\n    unchangeable_parameters=unchangeable_parameters,\n)"
      ]
    }
  ],
  "metadata": {
    "kernelspec": {
      "display_name": "Python 3",
      "language": "python",
      "name": "python3"
    },
    "language_info": {
      "codemirror_mode": {
        "name": "ipython",
        "version": 3
      },
      "file_extension": ".py",
      "mimetype": "text/x-python",
      "name": "python",
      "nbconvert_exporter": "python",
      "pygments_lexer": "ipython3",
      "version": "3.10.14"
    }
  },
  "nbformat": 4,
  "nbformat_minor": 0
}