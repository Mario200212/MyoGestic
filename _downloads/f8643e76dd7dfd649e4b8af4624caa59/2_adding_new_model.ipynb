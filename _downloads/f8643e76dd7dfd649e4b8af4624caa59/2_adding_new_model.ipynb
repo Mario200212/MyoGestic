{
  "cells": [
    {
      "cell_type": "markdown",
      "metadata": {},
      "source": [
        "\n# Adding a new model to MyoGestic\n\nThis example shows how to add a new model to MyoGestic.\n"
      ]
    },
    {
      "cell_type": "markdown",
      "metadata": {},
      "source": [
        "MyoGestic makes use of a configuration file to define the models that are available to the user in the GUI.\n\nFor ease of use, we have provided a template configuration file that you can use to add your own models\n`myogestic/user_config.py`.\n\nThis file contains 3 dictionaries (see `models_config` for more details):\n\n- `MODELS_MAP`: a dictionary where the keys are the model names and the values are a tuple containing the model class and whether the model is a classifier or not.\n- `FUNCTIONS_MAP`: a dictionary where the keys are the model names and the values are a tuple containing the function to save, load, and train the model.\n- `PARAMETERS_MAP`: a dictionary where the keys are the model names and the values are a dictionary containing the parameters that the model needs. This dictionary is used to create the GUI for the model in the MyoGestic interface.\n\n"
      ]
    },
    {
      "cell_type": "code",
      "execution_count": null,
      "metadata": {
        "collapsed": false
      },
      "outputs": [],
      "source": [
        "# print configuration file\nwith open(\"../myogestic/user_config.py\", \"r\") as f:\n    print(f.read())"
      ]
    },
    {
      "cell_type": "markdown",
      "metadata": {},
      "source": [
        "## Create a new model\nLet's add a new model to MyoGestic.\n\n.. tip:: While we encourage you to add a new model in a separate file than the `user_config.py`, you can add it directly to the user_config.py file if you prefer since all that matters is that the model class you make ends up in the `MODELS_MAP` dictionary.\n\n<div class=\"alert alert-info\"><h4>Note</h4><p>The model class should be able to recieve keyword arguments that are passed from the GUI. Also the model should have a function to save, load, train, and predict.</p></div>\n\nOur model is going to be a per finger regressor using the `CatBoostRegressor` from the `catboost` library.\n\n.. important:: Each model should have an unique name that is consistent across the `MODELS_MAP`, `FUNCTIONS_MAP`, and `PARAMETERS_MAP` dictionaries. This name will be displayed in the GUI.\n\n"
      ]
    },
    {
      "cell_type": "code",
      "execution_count": null,
      "metadata": {
        "collapsed": false
      },
      "outputs": [],
      "source": [
        "from sklearn.multioutput import MultiOutputRegressor\nfrom catboost import CatBoostRegressor\n\n# for such a model. we do not need to define a new class. We can use a lambda function to create the model.\nmy_new_model = lambda **params: MultiOutputRegressor(CatBoostRegressor(**params))\n\n# Add the model to the MODELS_MAP dictionary\nMODELS_MAP = {\n    \"My New Model\": (\n        my_new_model,\n        False,  # False because it is *not* a classifier\n    ),\n}"
      ]
    },
    {
      "cell_type": "markdown",
      "metadata": {},
      "source": [
        "## Add functions to save, load, and train the model\nNext, we need to define the functions to save, load, and train the model.\n\n<div class=\"alert alert-info\"><h4>Note</h4><p>The save and load functions should take the model and a file path as arguments. The train function should take the model, the training data, the training ground truth, and a logger as arguments. See `sklearn_models` for more details.</p></div>\n\nWe can use the `sklearn_models` functions that are already defined in the `myogestic.models.definitions` module.\n\n"
      ]
    },
    {
      "cell_type": "code",
      "execution_count": null,
      "metadata": {
        "collapsed": false
      },
      "outputs": [],
      "source": [
        "from myogestic.models.definitions import sklearn_models\n\n# Add the functions to the FUNCTIONS_MAP dictionary\nFUNCTIONS_MAP = {\n    \"My New Model\": {\n        \"save_function\": sklearn_models.save,\n        \"load_function\": sklearn_models.load,\n        \"train_function\": sklearn_models.train,\n    },\n}"
      ]
    },
    {
      "cell_type": "markdown",
      "metadata": {},
      "source": [
        "## Add parameters for the model\nFinally, we need to define the parameters that the model needs.\n\n<div class=\"alert alert-info\"><h4>Note</h4><p>The parameters should be divided into `changeable` and `unchangeable` parameters. The `changeable` parameters are the ones that the user can change in the GUI. The `unchangeable` parameters are the ones that the user cannot change and are set by the system.</p></div>\n\n.. important:: Changeable parameters are dictionaries where the keys are predefined depending on the type of parameter. See `models_config` for details. The keys are self-explanatory.\n\n.. important:: Unchangeable parameters are just key-value pairs.\n\nFor our model, we are going to define the following changeable parameters:\n\n- `iterations`: the number of iterations for the CatBoostRegressor.\n- `l2_leaf_reg`: the L2 regularization parameter for the CatBoostRegressor.\n- `border_count`: the number of splits for numerical features for the CatBoostRegressor.\n\nWe are also going to define the following unchangeable parameters:\n\n- `task_type`: the task type for the CatBoostRegressor. We are going to set it to \"GPU\" if there is a GPU available, otherwise we are going to set it to \"CPU\".\n- `train_dir`: the directory where the model is saved. This is set to `None` since the model should be saved using our function and not directly by the library.\n\n"
      ]
    },
    {
      "cell_type": "code",
      "execution_count": null,
      "metadata": {
        "collapsed": false
      },
      "outputs": [],
      "source": [
        "from catboost.utils import get_gpu_device_count\n\n# Add the parameters to the PARAMETERS_MAP dictionary\nPARAMETERS_MAP = {\n    \"My New Model\": {\n        \"changeable\": {\n            \"iterations\": {\n                \"start_value\": 10,\n                \"end_value\": 1000,\n                \"step\": 10,\n                \"default_value\": 100,\n            },\n            \"l2_leaf_reg\": {\n                \"start_value\": 1,\n                \"end_value\": 10,\n                \"step\": 1,\n                \"default_value\": 5,\n            },\n            \"border_count\": {\n                \"start_value\": 1,\n                \"end_value\": 255,\n                \"step\": 1,\n                \"default_value\": 128,\n            },\n        },\n        \"unchangeable\": {\n            \"task_type\": \"GPU\" if get_gpu_device_count() > 0 else \"CPU\",\n            \"train_dir\": None,\n        },\n    },\n}"
      ]
    }
  ],
  "metadata": {
    "kernelspec": {
      "display_name": "Python 3",
      "language": "python",
      "name": "python3"
    },
    "language_info": {
      "codemirror_mode": {
        "name": "ipython",
        "version": 3
      },
      "file_extension": ".py",
      "mimetype": "text/x-python",
      "name": "python",
      "nbconvert_exporter": "python",
      "pygments_lexer": "ipython3",
      "version": "3.10.14"
    }
  },
  "nbformat": 4,
  "nbformat_minor": 0
}