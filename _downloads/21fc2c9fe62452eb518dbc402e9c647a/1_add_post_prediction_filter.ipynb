{
  "cells": [
    {
      "cell_type": "markdown",
      "metadata": {},
      "source": [
        "\n# Add a Post-Prediction Filter\n\nThis example demonstrates how to create and register a new **real-time**\npost-prediction filter in MyoGestic, allowing you to process or smooth\nmodel outputs in real time after predictions are made.\n\n.. important::\n   The post-prediction filters will only affect regression outputs.\n\n<div class=\"alert alert-info\"><h4>Note</h4><p>Reference examples can be found in ``default_config.py``.</p></div>\n\n## Why Register a New Real-Time Filter?\nBy registering a filter through the provided registry, you can seamlessly\nincorporate custom signal-processing steps without modifying core code.\n\n.. admonition:: We Recommend Implementing any Additions in *user_config.py*\n\n   The *user_config.py* module is specifically designed for end-users to register\n   and configure their own custom components such as models, features,\n   and filters. This keeps your modifications modular, reduces conflicts with\n   core MyoGestic settings, and simplifies upgrades in the future.\n\n   .. important::\n      By registering your addition in ``user_config.py``, you ensure that your custom\n      configuration stays separate from core MyoGestic functionality and remains\n      compatible with future updates.\n\n## Example Overview\n1. **Create** a filtering function.\n2. **Register** it in the \"Config Registry\" so that it is recognized by MyoGestic.\n"
      ]
    },
    {
      "cell_type": "markdown",
      "metadata": {},
      "source": [
        "### Step 1: Define a Filtering Function\nThe input of a filter function is a list of lists containing float values outputted by a regression model.\n\nThis list represents 5 seconds of temporal data, with the last entry (position -1) corresponding to the most recent prediction.\n\nThe user can define how to process this data.\n\nThe function should return a filtered list or array of the same size, ensuring that the most recent prediction (position -1) remains the filtered current prediction.\n\n"
      ]
    },
    {
      "cell_type": "code",
      "execution_count": null,
      "metadata": {
        "collapsed": false
      },
      "outputs": [],
      "source": [
        "import numpy as np\nfrom scipy.ndimage import gaussian_filter\ndef my_awesome_gaussian_filter(data):\n    return gaussian_filter(np.array(data), 15, 0, axes=(0,))"
      ]
    },
    {
      "cell_type": "markdown",
      "metadata": {},
      "source": [
        "### Step 2: Register the Filter in user_config.py\n\n"
      ]
    },
    {
      "cell_type": "code",
      "execution_count": null,
      "metadata": {
        "collapsed": false
      },
      "outputs": [],
      "source": [
        "from myogestic.utils.config import CONFIG_REGISTRY  # Ensure CONFIG_REGISTRY is accessible\n\nCONFIG_REGISTRY.register_real_time_filter(\n    name=\"MyAwesomeMovingAverage\",\n    function=my_awesome_gaussian_filter,\n)"
      ]
    }
  ],
  "metadata": {
    "kernelspec": {
      "display_name": "Python 3",
      "language": "python",
      "name": "python3"
    },
    "language_info": {
      "codemirror_mode": {
        "name": "ipython",
        "version": 3
      },
      "file_extension": ".py",
      "mimetype": "text/x-python",
      "name": "python",
      "nbconvert_exporter": "python",
      "pygments_lexer": "ipython3",
      "version": "3.12.7"
    }
  },
  "nbformat": 4,
  "nbformat_minor": 0
}