{
  "cells": [
    {
      "cell_type": "markdown",
      "metadata": {},
      "source": [
        "\n# Part 0: What is a Visual Interface?\n\nA **Visual Interface** is a graphical user interface (GUI) that allows us to perform experiments, visualize data, and interact with the models trained in MyoGestic.\n\nFurther it is the main way we can communicate to participants what they should do during the experiment and what they can control.\n\nFor example, the `virtual_hand_interface` is a Visual Interface that allows users to visualize their hand movements in real-time despite neural lesions or amputations.\nIt is designed to have as little visual clutter as possible to avoid overwhelming the user with information. Two virtual hands are displayed on the screen, one that represents the user's hand and another that represents the target hand.\n\n## Technical Considerations (Probably why you are here):\n.. important::\n   A Visual Interface is generally intended to be a standalone program that can communicate (both receiving and sending) through information exchange protocols (e.g., UDP).\n   This way the interface is a standalone process that will not be hindered by MyoGestic's runtime.\n\n   **If you have not already, please create your standalone visual interface before proceeding.**\n\n\nTo integrate a new Visual Interface in MyoGestic you must add three components:\n\n1. **Setup Interface**: Configures the parameters and initializes the system (e.g. hardware, data pipeline).\n2. **Recording Interface**: Manages runtime interactions and data visualization.\n3. **Output Interface**: Defines how results are presented (e.g., virtual hands, plots).\n"
      ]
    }
  ],
  "metadata": {
    "kernelspec": {
      "display_name": "Python 3",
      "language": "python",
      "name": "python3"
    },
    "language_info": {
      "codemirror_mode": {
        "name": "ipython",
        "version": 3
      },
      "file_extension": ".py",
      "mimetype": "text/x-python",
      "name": "python",
      "nbconvert_exporter": "python",
      "pygments_lexer": "ipython3",
      "version": "3.12.7"
    }
  },
  "nbformat": 4,
  "nbformat_minor": 0
}